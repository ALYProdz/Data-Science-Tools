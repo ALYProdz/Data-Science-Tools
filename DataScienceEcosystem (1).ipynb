{
 "cells": [
  {
   "cell_type": "markdown",
   "id": "6c9f9ec1",
   "metadata": {},
   "source": [
    "# Data Science Tools and Ecosystem"
   ]
  },
  {
   "cell_type": "markdown",
   "id": "e528c7ca",
   "metadata": {},
   "source": [
    "In this notebook, Data Science Tools and Ecosystem are summarized."
   ]
  },
  {
   "cell_type": "markdown",
   "id": "b20b50e9",
   "metadata": {},
   "source": [
    "**Objectives:**\n",
    "<ul>List popular languages for Data Science\n",
    "    <li>Languages of Data Science </li>\n",
    "    <li>Package, API, Datasets and Model</li>\n",
    "    <li>Rstudion and Github</li>\n",
    "</ul>\n"
   ]
  },
  {
   "cell_type": "markdown",
   "id": "15ca926d",
   "metadata": {},
   "source": [
    "Some of the popular languages that Data Scientists use are:\n",
    "<ol><li>Python</li>\n",
    "<li>R</li>\n",
    "<li>SQL</li></ol>"
   ]
  },
  {
   "cell_type": "markdown",
   "id": "68c0a421",
   "metadata": {},
   "source": [
    "Some of the commonly used libraries used by Data Scientists include:\n",
    "<ol><li>Pandas</li>\n",
    "<li>Numpy</li>\n",
    "<li>Seaborn</li>\n",
    "    <li>Matplotlib</li>\n",
    "</ol>"
   ]
  },
  {
   "cell_type": "markdown",
   "id": "667bb865",
   "metadata": {},
   "source": [
    "### Data Science Tools\n",
    "Jupyter Notebook\n",
    "jupyterLab\n",
    "Rstudio"
   ]
  },
  {
   "cell_type": "markdown",
   "id": "3a91acc2",
   "metadata": {},
   "source": [
    "<h3>Below are a few examples of evaluating arithmetic expressions in Python.</h3>"
   ]
  },
  {
   "cell_type": "code",
   "execution_count": 25,
   "id": "690d095a",
   "metadata": {},
   "outputs": [
    {
     "data": {
      "text/plain": [
       "17"
      ]
     },
     "execution_count": 25,
     "metadata": {},
     "output_type": "execute_result"
    }
   ],
   "source": [
    "#This a simple arithmetic expression to mutiply then add integers.\n",
    "(3*4)+5"
   ]
  },
  {
   "cell_type": "code",
   "execution_count": null,
   "id": "ef6ab140",
   "metadata": {},
   "outputs": [],
   "source": []
  },
  {
   "cell_type": "code",
   "execution_count": 30,
   "id": "9e8ec9dd",
   "metadata": {},
   "outputs": [
    {
     "name": "stdout",
     "output_type": "stream",
     "text": [
      "It's the 3:20 O'clock\n"
     ]
    }
   ],
   "source": [
    "Minutes = 200\n",
    "hour = Minutes//60\n",
    "hour2 = Minutes%60\n",
    "Time = \"{}:{}\".format(hour, hour2)\n",
    "print(\"It's the \" + Time + \" O'clock\")"
   ]
  },
  {
   "cell_type": "markdown",
   "id": "d39300bf",
   "metadata": {},
   "source": [
    "<h2>Author</h2>\n",
    "Name : Wedson Petithomme"
   ]
  },
  {
   "cell_type": "code",
   "execution_count": null,
   "id": "7c24ddfb",
   "metadata": {},
   "outputs": [],
   "source": []
  },
  {
   "cell_type": "markdown",
   "id": "90537f7a",
   "metadata": {},
   "source": []
  },
  {
   "cell_type": "code",
   "execution_count": null,
   "id": "1cfc31ab",
   "metadata": {},
   "outputs": [],
   "source": []
  },
  {
   "cell_type": "code",
   "execution_count": null,
   "id": "08b92cbb",
   "metadata": {},
   "outputs": [],
   "source": []
  },
  {
   "cell_type": "code",
   "execution_count": null,
   "id": "14be190f",
   "metadata": {},
   "outputs": [],
   "source": []
  },
  {
   "cell_type": "code",
   "execution_count": null,
   "id": "f0e34feb",
   "metadata": {},
   "outputs": [],
   "source": []
  }
 ],
 "metadata": {
  "kernelspec": {
   "display_name": "Python 3 (ipykernel)",
   "language": "python",
   "name": "python3"
  },
  "language_info": {
   "codemirror_mode": {
    "name": "ipython",
    "version": 3
   },
   "file_extension": ".py",
   "mimetype": "text/x-python",
   "name": "python",
   "nbconvert_exporter": "python",
   "pygments_lexer": "ipython3",
   "version": "3.9.13"
  }
 },
 "nbformat": 4,
 "nbformat_minor": 5
}
